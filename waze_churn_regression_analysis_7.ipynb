{
 "cells": [
  {
   "cell_type": "markdown",
   "id": "af1aa461",
   "metadata": {},
   "source": [
    "- Random Forest y XGBoost"
   ]
  },
  {
   "cell_type": "markdown",
   "id": "a619a1bf",
   "metadata": {},
   "source": [
    "El objetivo es construir un modelo de machine learning para predecir la deserción de usuarios (churn). Para ello, se probarán dos modelos basados en árboles: Random Forest y XGBoost. El trabajo ayudó a tomar decisiones para prevenir la deserción y mejorar la retención de usuarios."
   ]
  },
  {
   "cell_type": "markdown",
   "id": "6093b6d1",
   "metadata": {},
   "source": [
    " Un falso negativo (predecir que un usuario no cancelará, pero sí lo hace) significa perder la oportunidad de retenerlo. Un falso positivo (predecir que un usuario cancelará, pero no lo hace) podría molestar a usuarios leales con acciones innecesarias. "
   ]
  },
  {
   "cell_type": "markdown",
   "id": "645c9030",
   "metadata": {},
   "source": [
    "1. Importaciones y carga de datos"
   ]
  },
  {
   "cell_type": "code",
   "execution_count": 81,
   "id": "f8c77740",
   "metadata": {},
   "outputs": [
    {
     "data": {
      "text/html": [
       "<div>\n",
       "<style scoped>\n",
       "    .dataframe tbody tr th:only-of-type {\n",
       "        vertical-align: middle;\n",
       "    }\n",
       "\n",
       "    .dataframe tbody tr th {\n",
       "        vertical-align: top;\n",
       "    }\n",
       "\n",
       "    .dataframe thead th {\n",
       "        text-align: right;\n",
       "    }\n",
       "</style>\n",
       "<table border=\"1\" class=\"dataframe\">\n",
       "  <thead>\n",
       "    <tr style=\"text-align: right;\">\n",
       "      <th></th>\n",
       "      <th>ID</th>\n",
       "      <th>label</th>\n",
       "      <th>sessions</th>\n",
       "      <th>drives</th>\n",
       "      <th>total_sessions</th>\n",
       "      <th>n_days_after_onboarding</th>\n",
       "      <th>total_navigations_fav1</th>\n",
       "      <th>total_navigations_fav2</th>\n",
       "      <th>driven_km_drives</th>\n",
       "      <th>duration_minutes_drives</th>\n",
       "      <th>activity_days</th>\n",
       "      <th>driving_days</th>\n",
       "      <th>device</th>\n",
       "    </tr>\n",
       "  </thead>\n",
       "  <tbody>\n",
       "    <tr>\n",
       "      <th>0</th>\n",
       "      <td>0</td>\n",
       "      <td>retained</td>\n",
       "      <td>283</td>\n",
       "      <td>226</td>\n",
       "      <td>296.748273</td>\n",
       "      <td>2276</td>\n",
       "      <td>208</td>\n",
       "      <td>0</td>\n",
       "      <td>2628.845068</td>\n",
       "      <td>1985.775061</td>\n",
       "      <td>28</td>\n",
       "      <td>19</td>\n",
       "      <td>Android</td>\n",
       "    </tr>\n",
       "    <tr>\n",
       "      <th>1</th>\n",
       "      <td>1</td>\n",
       "      <td>retained</td>\n",
       "      <td>133</td>\n",
       "      <td>107</td>\n",
       "      <td>326.896596</td>\n",
       "      <td>1225</td>\n",
       "      <td>19</td>\n",
       "      <td>64</td>\n",
       "      <td>13715.920550</td>\n",
       "      <td>3160.472914</td>\n",
       "      <td>13</td>\n",
       "      <td>11</td>\n",
       "      <td>iPhone</td>\n",
       "    </tr>\n",
       "    <tr>\n",
       "      <th>2</th>\n",
       "      <td>2</td>\n",
       "      <td>retained</td>\n",
       "      <td>114</td>\n",
       "      <td>95</td>\n",
       "      <td>135.522926</td>\n",
       "      <td>2651</td>\n",
       "      <td>0</td>\n",
       "      <td>0</td>\n",
       "      <td>3059.148818</td>\n",
       "      <td>1610.735904</td>\n",
       "      <td>14</td>\n",
       "      <td>8</td>\n",
       "      <td>Android</td>\n",
       "    </tr>\n",
       "    <tr>\n",
       "      <th>3</th>\n",
       "      <td>3</td>\n",
       "      <td>retained</td>\n",
       "      <td>49</td>\n",
       "      <td>40</td>\n",
       "      <td>67.589221</td>\n",
       "      <td>15</td>\n",
       "      <td>322</td>\n",
       "      <td>7</td>\n",
       "      <td>913.591123</td>\n",
       "      <td>587.196542</td>\n",
       "      <td>7</td>\n",
       "      <td>3</td>\n",
       "      <td>iPhone</td>\n",
       "    </tr>\n",
       "    <tr>\n",
       "      <th>4</th>\n",
       "      <td>4</td>\n",
       "      <td>retained</td>\n",
       "      <td>84</td>\n",
       "      <td>68</td>\n",
       "      <td>168.247020</td>\n",
       "      <td>1562</td>\n",
       "      <td>166</td>\n",
       "      <td>5</td>\n",
       "      <td>3950.202008</td>\n",
       "      <td>1219.555924</td>\n",
       "      <td>27</td>\n",
       "      <td>18</td>\n",
       "      <td>Android</td>\n",
       "    </tr>\n",
       "  </tbody>\n",
       "</table>\n",
       "</div>"
      ],
      "text/plain": [
       "   ID     label  sessions  drives  total_sessions  n_days_after_onboarding  \\\n",
       "0   0  retained       283     226      296.748273                     2276   \n",
       "1   1  retained       133     107      326.896596                     1225   \n",
       "2   2  retained       114      95      135.522926                     2651   \n",
       "3   3  retained        49      40       67.589221                       15   \n",
       "4   4  retained        84      68      168.247020                     1562   \n",
       "\n",
       "   total_navigations_fav1  total_navigations_fav2  driven_km_drives  \\\n",
       "0                     208                       0       2628.845068   \n",
       "1                      19                      64      13715.920550   \n",
       "2                       0                       0       3059.148818   \n",
       "3                     322                       7        913.591123   \n",
       "4                     166                       5       3950.202008   \n",
       "\n",
       "   duration_minutes_drives  activity_days  driving_days   device  \n",
       "0              1985.775061             28            19  Android  \n",
       "1              3160.472914             13            11   iPhone  \n",
       "2              1610.735904             14             8  Android  \n",
       "3               587.196542              7             3   iPhone  \n",
       "4              1219.555924             27            18  Android  "
      ]
     },
     "execution_count": 81,
     "metadata": {},
     "output_type": "execute_result"
    }
   ],
   "source": [
    "import numpy as np\n",
    "import pandas as pd\n",
    "\n",
    "import matplotlib.pyplot as plt\n",
    "\n",
    "# Esto nos permite ver todas las columnas\n",
    "pd.set_option('display.max_columns', None)\n",
    "\n",
    "# Importar paquetes para el modelado de datos\n",
    "from sklearn.model_selection import GridSearchCV, train_test_split\n",
    "from sklearn.metrics import roc_auc_score, roc_curve, auc\n",
    "from sklearn.metrics import accuracy_score, precision_score, recall_score,\\\n",
    "f1_score, confusion_matrix, ConfusionMatrixDisplay, RocCurveDisplay, PrecisionRecallDisplay\n",
    "\n",
    "from sklearn.ensemble import RandomForestClassifier\n",
    "from xgboost import XGBClassifier\n",
    "\n",
    "# Función que ayuda a graficar la importancia de las características\n",
    "from xgboost import plot_importance\n",
    "\n",
    "# Módulo para guardar nuestros modelos una vez ajustados\n",
    "import pickle\n",
    "\n",
    "# Importar el conjunto de datos\n",
    "df0 = pd.read_csv('waze_dataset.csv')\n",
    "\n",
    "df0.head()"
   ]
  },
  {
   "cell_type": "code",
   "execution_count": 82,
   "id": "156aaee3",
   "metadata": {},
   "outputs": [
    {
     "name": "stdout",
     "output_type": "stream",
     "text": [
      "<class 'pandas.core.frame.DataFrame'>\n",
      "RangeIndex: 14999 entries, 0 to 14998\n",
      "Data columns (total 13 columns):\n",
      " #   Column                   Non-Null Count  Dtype  \n",
      "---  ------                   --------------  -----  \n",
      " 0   ID                       14999 non-null  int64  \n",
      " 1   label                    14299 non-null  object \n",
      " 2   sessions                 14999 non-null  int64  \n",
      " 3   drives                   14999 non-null  int64  \n",
      " 4   total_sessions           14999 non-null  float64\n",
      " 5   n_days_after_onboarding  14999 non-null  int64  \n",
      " 6   total_navigations_fav1   14999 non-null  int64  \n",
      " 7   total_navigations_fav2   14999 non-null  int64  \n",
      " 8   driven_km_drives         14999 non-null  float64\n",
      " 9   duration_minutes_drives  14999 non-null  float64\n",
      " 10  activity_days            14999 non-null  int64  \n",
      " 11  driving_days             14999 non-null  int64  \n",
      " 12  device                   14999 non-null  object \n",
      "dtypes: float64(3), int64(8), object(2)\n",
      "memory usage: 1.5+ MB\n"
     ]
    }
   ],
   "source": [
    "# Copiar el dataframe df0 \n",
    "df = df0.copy()\n",
    "\n",
    "df.info()"
   ]
  },
  {
   "cell_type": "markdown",
   "id": "4e68e058",
   "metadata": {},
   "source": [
    "Crear una característica que representa el promedio de kilómetros conducidos por cada día de conducción."
   ]
  },
  {
   "cell_type": "code",
   "execution_count": 83,
   "id": "efc291d6",
   "metadata": {},
   "outputs": [
    {
     "data": {
      "text/plain": [
       "count    14999.000000\n",
       "mean       578.963113\n",
       "std       1030.094384\n",
       "min          0.000000\n",
       "25%        136.238895\n",
       "50%        272.889272\n",
       "75%        558.686918\n",
       "max      15420.234110\n",
       "Name: km_por_dia_de_conduccion, dtype: float64"
      ]
     },
     "execution_count": 83,
     "metadata": {},
     "output_type": "execute_result"
    }
   ],
   "source": [
    "# 1. Crear la característica `km_por_dia_de_conduccion`\n",
    "df['km_por_dia_de_conduccion'] = df['driven_km_drives'] / df['driving_days']\n",
    "\n",
    "# 2. Convertir valores infinitos a cero (resultado de la división por cero)\n",
    "df.loc[df['km_por_dia_de_conduccion']==np.inf, 'km_por_dia_de_conduccion'] = 0\n",
    "\n",
    "# 3. Confirmar que funcionó\n",
    "df['km_por_dia_de_conduccion'].describe()"
   ]
  },
  {
   "cell_type": "markdown",
   "id": "4bdc7367",
   "metadata": {},
   "source": [
    "Crear una columna que representa el porcentaje de sesiones totales del usuario que ocurrieron en el último mes."
   ]
  },
  {
   "cell_type": "code",
   "execution_count": 84,
   "id": "57673988",
   "metadata": {},
   "outputs": [
    {
     "data": {
      "text/plain": [
       "count    14999.000000\n",
       "mean         0.449255\n",
       "std          0.286919\n",
       "min          0.000000\n",
       "25%          0.196221\n",
       "50%          0.423097\n",
       "75%          0.687216\n",
       "max          1.530637\n",
       "Name: porcentaje_sesiones_ultimo_mes, dtype: float64"
      ]
     },
     "execution_count": 84,
     "metadata": {},
     "output_type": "execute_result"
    }
   ],
   "source": [
    "# 1. Crear la característica `porcentaje_sesiones_ultimo_mes`\n",
    "df['porcentaje_sesiones_ultimo_mes'] = df['sessions'] / df['total_sessions']\n",
    "\n",
    "df['porcentaje_sesiones_ultimo_mes'].describe()"
   ]
  },
  {
   "cell_type": "markdown",
   "id": "4697584a",
   "metadata": {},
   "source": [
    "Crea una característica binaria (1 o 0) para identificar a los usuarios que parecen ser conductores profesionales (>=60 viajes y >=15 días de conducción en el último mes)."
   ]
  },
  {
   "cell_type": "code",
   "execution_count": 85,
   "id": "0df774c4",
   "metadata": {},
   "outputs": [],
   "source": [
    "# Crear la característica `conductor_profesional`\n",
    "df['conductor_profesional'] = np.where((df['drives'] >= 60) & (df['driving_days'] >= 15), 1, 0)"
   ]
  },
  {
   "cell_type": "markdown",
   "id": "8c90f79a",
   "metadata": {},
   "source": [
    "Crear una columna con el número promedio de sesiones por día desde que el usuario se registró."
   ]
  },
  {
   "cell_type": "code",
   "execution_count": 86,
   "id": "7d8964a0",
   "metadata": {},
   "outputs": [
    {
     "data": {
      "text/plain": [
       "count    14999.000000\n",
       "mean         0.338698\n",
       "std          1.314333\n",
       "min          0.000298\n",
       "25%          0.051037\n",
       "50%          0.100775\n",
       "75%          0.216269\n",
       "max         39.763874\n",
       "Name: total_sesiones_por_dia, dtype: float64"
      ]
     },
     "execution_count": 86,
     "metadata": {},
     "output_type": "execute_result"
    }
   ],
   "source": [
    "df['total_sesiones_por_dia'] = df['total_sessions'] / df['n_days_after_onboarding']\n",
    "\n",
    "df['total_sesiones_por_dia'].describe()"
   ]
  },
  {
   "cell_type": "markdown",
   "id": "9a841371",
   "metadata": {},
   "source": [
    "Crear una columna para la velocidad promedio en km/h durante el último mes."
   ]
  },
  {
   "cell_type": "code",
   "execution_count": 87,
   "id": "64d3b46f",
   "metadata": {},
   "outputs": [
    {
     "data": {
      "text/plain": [
       "count    14999.000000\n",
       "mean       190.394608\n",
       "std        334.674026\n",
       "min         72.013095\n",
       "25%         90.706222\n",
       "50%        122.382022\n",
       "75%        193.130119\n",
       "max      23642.920871\n",
       "Name: km_por_hora, dtype: float64"
      ]
     },
     "execution_count": 87,
     "metadata": {},
     "output_type": "execute_result"
    }
   ],
   "source": [
    "df['km_por_hora'] = df['driven_km_drives'] / (df['duration_minutes_drives'] / 60)\n",
    "df['km_por_hora'].describe()"
   ]
  },
  {
   "cell_type": "markdown",
   "id": "4b5aba7a",
   "metadata": {},
   "source": [
    "Crear una columna para el promedio de kilómetros por viaje en el último mes."
   ]
  },
  {
   "cell_type": "code",
   "execution_count": 88,
   "id": "a6342ba2",
   "metadata": {},
   "outputs": [
    {
     "data": {
      "text/plain": [
       "count    14999.000000\n",
       "mean       232.817946\n",
       "std        620.622351\n",
       "min          0.000000\n",
       "25%         32.424301\n",
       "50%         72.854343\n",
       "75%        179.347527\n",
       "max      15777.426560\n",
       "Name: km_por_viaje, dtype: float64"
      ]
     },
     "execution_count": 88,
     "metadata": {},
     "output_type": "execute_result"
    }
   ],
   "source": [
    "df['km_por_viaje'] = df['driven_km_drives'] / df['drives']\n",
    "\n",
    "# Convertir valores infinitos a cero\n",
    "df.loc[df['km_por_viaje']==np.inf, 'km_por_viaje'] = 0\n",
    "\n",
    "df['km_por_viaje'].describe()"
   ]
  },
  {
   "cell_type": "markdown",
   "id": "5c815ea5",
   "metadata": {},
   "source": [
    "Crear una columna que representa el porcentaje de sesiones totales que se usaron para navegar a un lugar favorito."
   ]
  },
  {
   "cell_type": "code",
   "execution_count": 89,
   "id": "20029d06",
   "metadata": {},
   "outputs": [
    {
     "data": {
      "text/plain": [
       "count    14999.000000\n",
       "mean         1.665439\n",
       "std          8.865666\n",
       "min          0.000000\n",
       "25%          0.203471\n",
       "50%          0.649818\n",
       "75%          1.638526\n",
       "max        777.563629\n",
       "Name: porcentaje_viajes_a_favoritos, dtype: float64"
      ]
     },
     "execution_count": 89,
     "metadata": {},
     "output_type": "execute_result"
    }
   ],
   "source": [
    "# Crear la característica `porcentaje_viajes_a_favoritos`\n",
    "df['porcentaje_viajes_a_favoritos'] = (\n",
    "    df['total_navigations_fav1'] + df['total_navigations_fav2']) / df['total_sessions']\n",
    "\n",
    "df['porcentaje_viajes_a_favoritos'].describe()"
   ]
  },
  {
   "cell_type": "markdown",
   "id": "d041eb26",
   "metadata": {},
   "source": [
    "Se eliminan las filas con valores faltantes en la columna label ya que representan menos del 5% de los datos."
   ]
  },
  {
   "cell_type": "code",
   "execution_count": 90,
   "id": "97d3e2be",
   "metadata": {},
   "outputs": [],
   "source": [
    "df = df.dropna(subset=['label'])"
   ]
  },
  {
   "cell_type": "markdown",
   "id": "bf66ccb7",
   "metadata": {},
   "source": [
    "Los modelos basados en árboles son resistentes a los valores atípicos, por lo que no se realiza ninguna imputación."
   ]
  },
  {
   "cell_type": "markdown",
   "id": "55046876",
   "metadata": {},
   "source": [
    "Para usar la variable device, se convierte a formato numérico: Android -> 0, iPhone -> 1."
   ]
  },
  {
   "cell_type": "code",
   "execution_count": 91,
   "id": "f334c2fe",
   "metadata": {},
   "outputs": [
    {
     "data": {
      "text/html": [
       "<div>\n",
       "<style scoped>\n",
       "    .dataframe tbody tr th:only-of-type {\n",
       "        vertical-align: middle;\n",
       "    }\n",
       "\n",
       "    .dataframe tbody tr th {\n",
       "        vertical-align: top;\n",
       "    }\n",
       "\n",
       "    .dataframe thead th {\n",
       "        text-align: right;\n",
       "    }\n",
       "</style>\n",
       "<table border=\"1\" class=\"dataframe\">\n",
       "  <thead>\n",
       "    <tr style=\"text-align: right;\">\n",
       "      <th></th>\n",
       "      <th>device</th>\n",
       "      <th>dispositivo2</th>\n",
       "    </tr>\n",
       "  </thead>\n",
       "  <tbody>\n",
       "    <tr>\n",
       "      <th>14994</th>\n",
       "      <td>iPhone</td>\n",
       "      <td>1</td>\n",
       "    </tr>\n",
       "    <tr>\n",
       "      <th>14995</th>\n",
       "      <td>Android</td>\n",
       "      <td>0</td>\n",
       "    </tr>\n",
       "    <tr>\n",
       "      <th>14996</th>\n",
       "      <td>iPhone</td>\n",
       "      <td>1</td>\n",
       "    </tr>\n",
       "    <tr>\n",
       "      <th>14997</th>\n",
       "      <td>iPhone</td>\n",
       "      <td>1</td>\n",
       "    </tr>\n",
       "    <tr>\n",
       "      <th>14998</th>\n",
       "      <td>iPhone</td>\n",
       "      <td>1</td>\n",
       "    </tr>\n",
       "  </tbody>\n",
       "</table>\n",
       "</div>"
      ],
      "text/plain": [
       "        device  dispositivo2\n",
       "14994   iPhone             1\n",
       "14995  Android             0\n",
       "14996   iPhone             1\n",
       "14997   iPhone             1\n",
       "14998   iPhone             1"
      ]
     },
     "execution_count": 91,
     "metadata": {},
     "output_type": "execute_result"
    }
   ],
   "source": [
    "# Crear la nueva variable binaria \"dispositivo2\"\n",
    "\n",
    "df['dispositivo2'] = np.where(df['device']=='Android', 0, 1)\n",
    "df[['device', 'dispositivo2']].tail()"
   ]
  },
  {
   "cell_type": "markdown",
   "id": "a796fa9b",
   "metadata": {},
   "source": [
    "La variable objetivo label también se codifica: retained -> 0, churned -> 1."
   ]
  },
  {
   "cell_type": "code",
   "execution_count": 92,
   "id": "f4576adc",
   "metadata": {},
   "outputs": [
    {
     "data": {
      "text/html": [
       "<div>\n",
       "<style scoped>\n",
       "    .dataframe tbody tr th:only-of-type {\n",
       "        vertical-align: middle;\n",
       "    }\n",
       "\n",
       "    .dataframe tbody tr th {\n",
       "        vertical-align: top;\n",
       "    }\n",
       "\n",
       "    .dataframe thead th {\n",
       "        text-align: right;\n",
       "    }\n",
       "</style>\n",
       "<table border=\"1\" class=\"dataframe\">\n",
       "  <thead>\n",
       "    <tr style=\"text-align: right;\">\n",
       "      <th></th>\n",
       "      <th>label</th>\n",
       "      <th>etiqueta2</th>\n",
       "    </tr>\n",
       "  </thead>\n",
       "  <tbody>\n",
       "    <tr>\n",
       "      <th>14994</th>\n",
       "      <td>retained</td>\n",
       "      <td>0</td>\n",
       "    </tr>\n",
       "    <tr>\n",
       "      <th>14995</th>\n",
       "      <td>retained</td>\n",
       "      <td>0</td>\n",
       "    </tr>\n",
       "    <tr>\n",
       "      <th>14996</th>\n",
       "      <td>retained</td>\n",
       "      <td>0</td>\n",
       "    </tr>\n",
       "    <tr>\n",
       "      <th>14997</th>\n",
       "      <td>churned</td>\n",
       "      <td>1</td>\n",
       "    </tr>\n",
       "    <tr>\n",
       "      <th>14998</th>\n",
       "      <td>retained</td>\n",
       "      <td>0</td>\n",
       "    </tr>\n",
       "  </tbody>\n",
       "</table>\n",
       "</div>"
      ],
      "text/plain": [
       "          label  etiqueta2\n",
       "14994  retained          0\n",
       "14995  retained          0\n",
       "14996  retained          0\n",
       "14997   churned          1\n",
       "14998  retained          0"
      ]
     },
     "execution_count": 92,
     "metadata": {},
     "output_type": "execute_result"
    }
   ],
   "source": [
    "# Crear la columna binaria \"etiqueta2\"\n",
    "\n",
    "df['etiqueta2'] = np.where(df['label']=='churned', 1, 0)\n",
    "df[['label', 'etiqueta2']].tail()"
   ]
  },
  {
   "cell_type": "markdown",
   "id": "3c202265",
   "metadata": {},
   "source": [
    "Se elimina la columna ID ya que no es relevante para el modelo."
   ]
  },
  {
   "cell_type": "code",
   "execution_count": 93,
   "id": "f90e56e5",
   "metadata": {},
   "outputs": [],
   "source": [
    "df = df.drop(['ID'], axis=1)"
   ]
  },
  {
   "cell_type": "markdown",
   "id": "6103acc0",
   "metadata": {},
   "source": [
    "El conjunto de datos está desbalanceado (aproximadamente 18% de usuarios cancelaron). Dado que el riesgo de un falso positivo es bajo, se elegirá el modelo con la mejor puntuación de recall, ya que es más importante identificar correctamente a los usuarios que van a cancelar."
   ]
  },
  {
   "cell_type": "code",
   "execution_count": 94,
   "id": "e7d9960d",
   "metadata": {},
   "outputs": [
    {
     "data": {
      "text/plain": [
       "label\n",
       "retained    0.822645\n",
       "churned     0.177355\n",
       "Name: proportion, dtype: float64"
      ]
     },
     "execution_count": 94,
     "metadata": {},
     "output_type": "execute_result"
    }
   ],
   "source": [
    "# Obtener el balance de clases de la columna \"label\"\n",
    "\n",
    "df['label'].value_counts(normalize=True)"
   ]
  },
  {
   "cell_type": "markdown",
   "id": "31008e6b",
   "metadata": {},
   "source": [
    "El proceso de modelado incluye dividir los datos en conjuntos de entrenamiento, validación y prueba (60/20/20), ajustar los modelos y sus hiperparámetros, y seleccionar un modelo sobresaliente para la evaluación final."
   ]
  },
  {
   "cell_type": "markdown",
   "id": "57f75618",
   "metadata": {},
   "source": [
    "Dividir los datos\n",
    "\n",
    "Se separan las características (X) de la variable objetivo (y) y se dividen los datos."
   ]
  },
  {
   "cell_type": "code",
   "execution_count": 95,
   "id": "5b25050d",
   "metadata": {},
   "outputs": [],
   "source": [
    "# 1. Aislar las variables X\n",
    "X = df.drop(columns=['label', 'etiqueta2', 'device'])\n",
    "\n",
    "# 2. Aislar la variable y\n",
    "y = df['etiqueta2']\n",
    "\n",
    "# 3. Dividir en conjuntos de entrenamiento interino y prueba (80/20)\n",
    "X_entrenamiento_temp, X_prueba, y_entrenamiento_temp, y_prueba = train_test_split(X, y, stratify=y,\n",
    "                                              test_size=0.2, random_state=42)\n",
    "\n",
    "# 4. Dividir el conjunto interino en entrenamiento y validación (75/25)\n",
    "X_entrenamiento, X_validacion, y_entrenamiento, y_validacion = train_test_split(X_entrenamiento_temp, y_entrenamiento_temp, stratify=y_entrenamiento_temp,\n",
    "                                                  test_size=0.25, random_state=42)"
   ]
  },
  {
   "cell_type": "markdown",
   "id": "5bee8c4a",
   "metadata": {},
   "source": [
    "Verificar el tamaño de cada conjunto de datos."
   ]
  },
  {
   "cell_type": "code",
   "execution_count": 96,
   "id": "ed8b0d52",
   "metadata": {},
   "outputs": [
    {
     "name": "stdout",
     "output_type": "stream",
     "text": [
      "8579\n",
      "2860\n",
      "2860\n"
     ]
    }
   ],
   "source": [
    "for x in [X_entrenamiento, X_validacion, X_prueba]:\n",
    "    print(len(x))"
   ]
  },
  {
   "cell_type": "markdown",
   "id": "91f13349",
   "metadata": {},
   "source": [
    "Ahora, se construirán y optimizarán los modelos de clasificación."
   ]
  },
  {
   "cell_type": "markdown",
   "id": "ae2b22f6",
   "metadata": {},
   "source": [
    "- Random Forest \n",
    "\n",
    "Se comienza ajustando un modelo de Random Forest usando GridSearchCV para encontrar los mejores hiperparámetros."
   ]
  },
  {
   "cell_type": "code",
   "execution_count": 97,
   "id": "eb41f6d8",
   "metadata": {},
   "outputs": [
    {
     "name": "stdout",
     "output_type": "stream",
     "text": [
      "Mejor puntuación (Recall): 0.12678201409034398\n",
      "Mejores parámetros: {'max_depth': None, 'max_features': 1.0, 'max_samples': 1.0, 'min_samples_leaf': 2, 'min_samples_split': 2, 'n_estimators': 300}\n"
     ]
    }
   ],
   "source": [
    "# 1. Instanciar el clasificador de random forest\n",
    "rf = RandomForestClassifier(random_state=42)\n",
    "\n",
    "# 2. Crear un diccionario de hiperparámetros para ajustar\n",
    "# Nota: para ahorrar tiempo, se usan valores únicos, pero se debería probar un rango de valores.\n",
    "parametros_cv = {'max_depth': [None],\n",
    "                 'max_features': [1.0],\n",
    "                 'max_samples': [1.0],\n",
    "                 'min_samples_leaf': [2],\n",
    "                 'min_samples_split': [2],\n",
    "                 'n_estimators': [300],\n",
    "                }\n",
    "\n",
    "# 3. Definir una lista de métricas de puntuación\n",
    "metricas = ['accuracy', 'precision', 'recall', 'f1']\n",
    "\n",
    "# 4. Instanciar el objeto GridSearchCV\n",
    "# Se optimiza para 'recall' porque es la métrica más importante para este caso de uso.\n",
    "rf_cv = GridSearchCV(rf, parametros_cv, scoring=metricas, cv=4, refit='recall')\n",
    "\n",
    "# Ajustar el modelo a los datos de entrenamiento\n",
    "rf_cv.fit(X_entrenamiento, y_entrenamiento)\n",
    "\n",
    "# Examinar la mejor puntuación promedio de \"recall\"\n",
    "print(f\"Mejor puntuación (Recall): {rf_cv.best_score_}\")\n",
    "\n",
    "# Examinar la mejor combinación de hiperparámetros\n",
    "print(f\"Mejores parámetros: {rf_cv.best_params_}\")"
   ]
  },
  {
   "cell_type": "markdown",
   "id": "95cb5128",
   "metadata": {},
   "source": [
    "Para organizar los resultados, se crea una función que extrae las métricas clave de los modelos ajustados."
   ]
  },
  {
   "cell_type": "code",
   "execution_count": 98,
   "id": "e2103001",
   "metadata": {},
   "outputs": [
    {
     "data": {
      "text/html": [
       "<div>\n",
       "<style scoped>\n",
       "    .dataframe tbody tr th:only-of-type {\n",
       "        vertical-align: middle;\n",
       "    }\n",
       "\n",
       "    .dataframe tbody tr th {\n",
       "        vertical-align: top;\n",
       "    }\n",
       "\n",
       "    .dataframe thead th {\n",
       "        text-align: right;\n",
       "    }\n",
       "</style>\n",
       "<table border=\"1\" class=\"dataframe\">\n",
       "  <thead>\n",
       "    <tr style=\"text-align: right;\">\n",
       "      <th></th>\n",
       "      <th>modelo</th>\n",
       "      <th>precision</th>\n",
       "      <th>recall</th>\n",
       "      <th>F1</th>\n",
       "      <th>accuracy</th>\n",
       "    </tr>\n",
       "  </thead>\n",
       "  <tbody>\n",
       "    <tr>\n",
       "      <th>0</th>\n",
       "      <td>RF cv</td>\n",
       "      <td>0.457163</td>\n",
       "      <td>0.126782</td>\n",
       "      <td>0.198445</td>\n",
       "      <td>0.81851</td>\n",
       "    </tr>\n",
       "  </tbody>\n",
       "</table>\n",
       "</div>"
      ],
      "text/plain": [
       "  modelo  precision    recall        F1  accuracy\n",
       "0  RF cv   0.457163  0.126782  0.198445   0.81851"
      ]
     },
     "execution_count": 98,
     "metadata": {},
     "output_type": "execute_result"
    }
   ],
   "source": [
    "def generar_resultados(nombre_modelo:str, objeto_modelo, metrica:str):\n",
    "    # Diccionario para mapear la métrica de entrada con su nombre en GridSearchCV\n",
    "    diccionario_metricas = {'precision': 'mean_test_precision',\n",
    "                          'recall': 'mean_test_recall',\n",
    "                          'f1': 'mean_test_f1',\n",
    "                          'accuracy': 'mean_test_accuracy',\n",
    "                         }\n",
    "\n",
    "    # Obtener los resultados de la validación cruzada\n",
    "    resultados_cv = pd.DataFrame(objeto_modelo.cv_results_)\n",
    "\n",
    "    # Aislar la fila con la puntuación máxima de la métrica\n",
    "    mejores_resultados = resultados_cv.iloc[resultados_cv[diccionario_metricas[metrica]].idxmax(), :]\n",
    "\n",
    "    # Extraer las puntuaciones\n",
    "    f1 = mejores_resultados.mean_test_f1\n",
    "    recall = mejores_resultados.mean_test_recall\n",
    "    precision = mejores_resultados.mean_test_precision\n",
    "    accuracy = mejores_resultados.mean_test_accuracy\n",
    "\n",
    "    # Crear tabla de resultados\n",
    "    tabla = pd.DataFrame({'modelo': [nombre_modelo],\n",
    "                          'precision': [precision],\n",
    "                          'recall': [recall],\n",
    "                          'F1': [f1],\n",
    "                          'accuracy': [accuracy],\n",
    "                         })\n",
    "    return tabla\n",
    "\n",
    "# Generar la tabla de resultados para el modelo Random Forest\n",
    "resultados = generar_resultados('RF cv', rf_cv, 'recall')\n",
    "resultados"
   ]
  },
  {
   "cell_type": "markdown",
   "id": "720064df",
   "metadata": {},
   "source": [
    "- Aunque la precisión es decente, las otras métricas no son muy altas. Sin embargo, el recall es un 33% mejor que el de un modelo de regresión logística previo, con una precisión similar."
   ]
  },
  {
   "cell_type": "markdown",
   "id": "cdc48603",
   "metadata": {},
   "source": [
    "- XGBoost"
   ]
  },
  {
   "cell_type": "code",
   "execution_count": 99,
   "id": "b979ab16",
   "metadata": {},
   "outputs": [
    {
     "name": "stdout",
     "output_type": "stream",
     "text": [
      "Mejor Puntuación (Recall): 0.17936351706036746\n",
      "Mejores Parámetros: {'learning_rate': 0.1, 'max_depth': 12, 'min_child_weight': 5, 'n_estimators': 300}\n"
     ]
    },
    {
     "data": {
      "text/html": [
       "<div>\n",
       "<style scoped>\n",
       "    .dataframe tbody tr th:only-of-type {\n",
       "        vertical-align: middle;\n",
       "    }\n",
       "\n",
       "    .dataframe tbody tr th {\n",
       "        vertical-align: top;\n",
       "    }\n",
       "\n",
       "    .dataframe thead th {\n",
       "        text-align: right;\n",
       "    }\n",
       "</style>\n",
       "<table border=\"1\" class=\"dataframe\">\n",
       "  <thead>\n",
       "    <tr style=\"text-align: right;\">\n",
       "      <th></th>\n",
       "      <th>modelo</th>\n",
       "      <th>precision</th>\n",
       "      <th>recall</th>\n",
       "      <th>F1</th>\n",
       "      <th>accuracy</th>\n",
       "    </tr>\n",
       "  </thead>\n",
       "  <tbody>\n",
       "    <tr>\n",
       "      <th>0</th>\n",
       "      <td>RF cv</td>\n",
       "      <td>0.457163</td>\n",
       "      <td>0.126782</td>\n",
       "      <td>0.198445</td>\n",
       "      <td>0.818510</td>\n",
       "    </tr>\n",
       "    <tr>\n",
       "      <th>0</th>\n",
       "      <td>XGB cv</td>\n",
       "      <td>0.424500</td>\n",
       "      <td>0.179364</td>\n",
       "      <td>0.251974</td>\n",
       "      <td>0.811167</td>\n",
       "    </tr>\n",
       "  </tbody>\n",
       "</table>\n",
       "</div>"
      ],
      "text/plain": [
       "   modelo  precision    recall        F1  accuracy\n",
       "0   RF cv   0.457163  0.126782  0.198445  0.818510\n",
       "0  XGB cv   0.424500  0.179364  0.251974  0.811167"
      ]
     },
     "execution_count": 99,
     "metadata": {},
     "output_type": "execute_result"
    }
   ],
   "source": [
    "# 1. Instanciar el clasificador XGBoost\n",
    "xgb = XGBClassifier(objective='binary:logistic', random_state=42)\n",
    "\n",
    "# 2. Crear un diccionario de hiperparámetros para ajustar\n",
    "parametros_cv_xgb = {'max_depth': [6, 12],\n",
    "                     'min_child_weight': [3, 5],\n",
    "                     'learning_rate': [0.01, 0.1],\n",
    "                     'n_estimators': [300]\n",
    "                    }\n",
    "\n",
    "# 3. Definir una lista de métricas\n",
    "metricas = ['accuracy', 'precision', 'recall', 'f1']\n",
    "\n",
    "# 4. Instanciar el objeto GridSearchCV, optimizando de nuevo para 'recall'\n",
    "xgb_cv = GridSearchCV(xgb, parametros_cv_xgb, scoring=metricas, cv=4, refit='recall')\n",
    "\n",
    "# Ajustar el modelo\n",
    "xgb_cv.fit(X_entrenamiento, y_entrenamiento)\n",
    "\n",
    "# Examinar la mejor puntuación de 'recall'\n",
    "print(f\"Mejor Puntuación (Recall): {xgb_cv.best_score_}\")\n",
    "\n",
    "# Examinar los mejores parámetros\n",
    "print(f\"Mejores Parámetros: {xgb_cv.best_params_}\")\n",
    "\n",
    "# Generar y añadir los resultados de XGBoost a la tabla\n",
    "resultados_xgb_cv = generar_resultados('XGB cv', xgb_cv, 'recall')\n",
    "resultados = pd.concat([resultados, resultados_xgb_cv], axis=0)\n",
    "resultados"
   ]
  },
  {
   "cell_type": "markdown",
   "id": "ed68a10d",
   "metadata": {},
   "source": [
    "El modelo XGBoost superó al de Random Forest. Su recall es casi el doble que el del modelo logístico y un 50% mejor que el de Random Forest, manteniendo una precisión y exactitud similares."
   ]
  },
  {
   "cell_type": "markdown",
   "id": "02b97f24",
   "metadata": {},
   "source": [
    "Se usan los mejores modelos de Random Forest y XGBoost para predecir sobre los datos de validación. El que tenga mejor rendimiento será el modelo campeón."
   ]
  },
  {
   "cell_type": "code",
   "execution_count": 100,
   "id": "5da98c29",
   "metadata": {},
   "outputs": [
    {
     "data": {
      "text/html": [
       "<div>\n",
       "<style scoped>\n",
       "    .dataframe tbody tr th:only-of-type {\n",
       "        vertical-align: middle;\n",
       "    }\n",
       "\n",
       "    .dataframe tbody tr th {\n",
       "        vertical-align: top;\n",
       "    }\n",
       "\n",
       "    .dataframe thead th {\n",
       "        text-align: right;\n",
       "    }\n",
       "</style>\n",
       "<table border=\"1\" class=\"dataframe\">\n",
       "  <thead>\n",
       "    <tr style=\"text-align: right;\">\n",
       "      <th></th>\n",
       "      <th>modelo</th>\n",
       "      <th>precision</th>\n",
       "      <th>recall</th>\n",
       "      <th>F1</th>\n",
       "      <th>accuracy</th>\n",
       "    </tr>\n",
       "  </thead>\n",
       "  <tbody>\n",
       "    <tr>\n",
       "      <th>0</th>\n",
       "      <td>RF cv</td>\n",
       "      <td>0.457163</td>\n",
       "      <td>0.126782</td>\n",
       "      <td>0.198445</td>\n",
       "      <td>0.818510</td>\n",
       "    </tr>\n",
       "    <tr>\n",
       "      <th>0</th>\n",
       "      <td>XGB cv</td>\n",
       "      <td>0.424500</td>\n",
       "      <td>0.179364</td>\n",
       "      <td>0.251974</td>\n",
       "      <td>0.811167</td>\n",
       "    </tr>\n",
       "    <tr>\n",
       "      <th>0</th>\n",
       "      <td>RF val</td>\n",
       "      <td>0.445255</td>\n",
       "      <td>0.120316</td>\n",
       "      <td>0.189441</td>\n",
       "      <td>0.817483</td>\n",
       "    </tr>\n",
       "    <tr>\n",
       "      <th>0</th>\n",
       "      <td>XGB val</td>\n",
       "      <td>0.395556</td>\n",
       "      <td>0.175542</td>\n",
       "      <td>0.243169</td>\n",
       "      <td>0.806294</td>\n",
       "    </tr>\n",
       "  </tbody>\n",
       "</table>\n",
       "</div>"
      ],
      "text/plain": [
       "    modelo  precision    recall        F1  accuracy\n",
       "0    RF cv   0.457163  0.126782  0.198445  0.818510\n",
       "0   XGB cv   0.424500  0.179364  0.251974  0.811167\n",
       "0   RF val   0.445255  0.120316  0.189441  0.817483\n",
       "0  XGB val   0.395556  0.175542  0.243169  0.806294"
      ]
     },
     "execution_count": 100,
     "metadata": {},
     "output_type": "execute_result"
    }
   ],
   "source": [
    "# Función para generar una tabla con las puntuaciones de prueba/validación\n",
    "def obtener_puntuaciones_prueba(nombre_modelo:str, predicciones, datos_y):\n",
    "    accuracy = accuracy_score(datos_y, predicciones)\n",
    "    precision = precision_score(datos_y, predicciones)\n",
    "    recall = recall_score(datos_y, predicciones)\n",
    "    f1 = f1_score(datos_y, predicciones)\n",
    "\n",
    "    tabla = pd.DataFrame({'modelo': [nombre_modelo],\n",
    "                          'precision': [precision],\n",
    "                          'recall': [recall],\n",
    "                          'F1': [f1],\n",
    "                          'accuracy': [accuracy]\n",
    "                          })\n",
    "    return tabla\n",
    "\n",
    "# Predecir y obtener puntuaciones para Random Forest en el conjunto de validación\n",
    "predicciones_rf_val = rf_cv.best_estimator_.predict(X_validacion)\n",
    "puntuaciones_rf_val = obtener_puntuaciones_prueba('RF val', predicciones_rf_val, y_validacion)\n",
    "resultados = pd.concat([resultados, puntuaciones_rf_val], axis=0)\n",
    "\n",
    "# Predecir y obtener puntuaciones para XGBoost en el conjunto de validación\n",
    "predicciones_xgb_val = xgb_cv.best_estimator_.predict(X_validacion)\n",
    "puntuaciones_xgb_val = obtener_puntuaciones_prueba('XGB val', predicciones_xgb_val, y_validacion)\n",
    "resultados = pd.concat([resultados, puntuaciones_xgb_val], axis=0)\n",
    "\n",
    "resultados"
   ]
  },
  {
   "cell_type": "markdown",
   "id": "fd19faa4",
   "metadata": {},
   "source": [
    "- Las puntuaciones en el conjunto de validación disminuyeron ligeramente para ambos modelos, lo que indica que no hay un sobreajuste significativo. XGBoost sigue siendo el mejor modelo."
   ]
  },
  {
   "cell_type": "markdown",
   "id": "4a9a5bf1",
   "metadata": {},
   "source": [
    "Se evalúa el modelo XGBoost en el conjunto de prueba para estimar su rendimiento en datos futuros."
   ]
  },
  {
   "cell_type": "code",
   "execution_count": 101,
   "id": "2de45b8f",
   "metadata": {},
   "outputs": [
    {
     "data": {
      "text/html": [
       "<div>\n",
       "<style scoped>\n",
       "    .dataframe tbody tr th:only-of-type {\n",
       "        vertical-align: middle;\n",
       "    }\n",
       "\n",
       "    .dataframe tbody tr th {\n",
       "        vertical-align: top;\n",
       "    }\n",
       "\n",
       "    .dataframe thead th {\n",
       "        text-align: right;\n",
       "    }\n",
       "</style>\n",
       "<table border=\"1\" class=\"dataframe\">\n",
       "  <thead>\n",
       "    <tr style=\"text-align: right;\">\n",
       "      <th></th>\n",
       "      <th>modelo</th>\n",
       "      <th>precision</th>\n",
       "      <th>recall</th>\n",
       "      <th>F1</th>\n",
       "      <th>accuracy</th>\n",
       "    </tr>\n",
       "  </thead>\n",
       "  <tbody>\n",
       "    <tr>\n",
       "      <th>0</th>\n",
       "      <td>RF cv</td>\n",
       "      <td>0.457163</td>\n",
       "      <td>0.126782</td>\n",
       "      <td>0.198445</td>\n",
       "      <td>0.818510</td>\n",
       "    </tr>\n",
       "    <tr>\n",
       "      <th>0</th>\n",
       "      <td>XGB cv</td>\n",
       "      <td>0.424500</td>\n",
       "      <td>0.179364</td>\n",
       "      <td>0.251974</td>\n",
       "      <td>0.811167</td>\n",
       "    </tr>\n",
       "    <tr>\n",
       "      <th>0</th>\n",
       "      <td>RF val</td>\n",
       "      <td>0.445255</td>\n",
       "      <td>0.120316</td>\n",
       "      <td>0.189441</td>\n",
       "      <td>0.817483</td>\n",
       "    </tr>\n",
       "    <tr>\n",
       "      <th>0</th>\n",
       "      <td>XGB val</td>\n",
       "      <td>0.395556</td>\n",
       "      <td>0.175542</td>\n",
       "      <td>0.243169</td>\n",
       "      <td>0.806294</td>\n",
       "    </tr>\n",
       "    <tr>\n",
       "      <th>0</th>\n",
       "      <td>XGB prueba</td>\n",
       "      <td>0.416327</td>\n",
       "      <td>0.201183</td>\n",
       "      <td>0.271277</td>\n",
       "      <td>0.808392</td>\n",
       "    </tr>\n",
       "  </tbody>\n",
       "</table>\n",
       "</div>"
      ],
      "text/plain": [
       "       modelo  precision    recall        F1  accuracy\n",
       "0       RF cv   0.457163  0.126782  0.198445  0.818510\n",
       "0      XGB cv   0.424500  0.179364  0.251974  0.811167\n",
       "0      RF val   0.445255  0.120316  0.189441  0.817483\n",
       "0     XGB val   0.395556  0.175542  0.243169  0.806294\n",
       "0  XGB prueba   0.416327  0.201183  0.271277  0.808392"
      ]
     },
     "execution_count": 101,
     "metadata": {},
     "output_type": "execute_result"
    }
   ],
   "source": [
    "# Usar el modelo XGBoost para predecir en los datos de prueba\n",
    "predicciones_xgb_prueba = xgb_cv.best_estimator_.predict(X_prueba)\n",
    "\n",
    "# Obtener las puntuaciones finales\n",
    "puntuaciones_xgb_prueba = obtener_puntuaciones_prueba('XGB prueba', predicciones_xgb_prueba, y_prueba)\n",
    "\n",
    "# Añadir a la tabla de resultados\n",
    "resultados = pd.concat([resultados, puntuaciones_xgb_prueba], axis=0)\n",
    "resultados"
   ]
  },
  {
   "cell_type": "markdown",
   "id": "f81bd53c",
   "metadata": {},
   "source": [
    "El rendimiento se mantuvo estable, confirmando la buena calidad del modelo."
   ]
  },
  {
   "cell_type": "markdown",
   "id": "670362cf",
   "metadata": {},
   "source": [
    "Se visualiza la matriz de confusión para entender los tipos de errores del modelo."
   ]
  },
  {
   "cell_type": "code",
   "execution_count": 102,
   "id": "72162b83",
   "metadata": {},
   "outputs": [
    {
     "data": {
      "image/png": "[encoded data removed]",
      "text/plain": [
       "<Figure size 640x480 with 2 Axes>"
      ]
     },
     "metadata": {},
     "output_type": "display_data"
    }
   ],
   "source": [
    "# Generar valores para la matriz de confusión\n",
    "matriz_confusion = confusion_matrix(y_prueba, predicciones_xgb_prueba, labels=xgb_cv.classes_)\n",
    "\n",
    "# Graficar la matriz de confusión\n",
    "disp = ConfusionMatrixDisplay(confusion_matrix=matriz_confusion,\n",
    "                             display_labels=['retenido', 'cancelado'])\n",
    "disp.plot();"
   ]
  },
  {
   "cell_type": "markdown",
   "id": "6ef0a878",
   "metadata": {},
   "source": [
    "La matriz muestra que el modelo predijo más de tres veces más falsos negativos que falsos positivos, y solo identificó correctamente al 18.1% de los usuarios que realmente cancelaron."
   ]
  },
  {
   "cell_type": "markdown",
   "id": "060ca089",
   "metadata": {},
   "source": [
    "Se inspeccionan las características más influyentes para el modelo XGBoost.\n",
    "\n"
   ]
  },
  {
   "cell_type": "code",
   "execution_count": 103,
   "id": "cb68a9c6",
   "metadata": {},
   "outputs": [
    {
     "data": {
      "image/png": "[encoded data removed]",
      "text/plain": [
       "<Figure size 640x480 with 1 Axes>"
      ]
     },
     "metadata": {},
     "output_type": "display_data"
    }
   ],
   "source": [
    "plot_importance(xgb_cv.best_estimator_);"
   ]
  },
  {
   "cell_type": "markdown",
   "id": "bb6b861b",
   "metadata": {},
   "source": [
    "El modelo XGBoost utilizó una variedad de características. Se puede notar que 6 de las 10 características más importantes fueron las que se crearon mediante ingeniería de características, lo que demuestra el valor de este proceso para mejorar el rendimiento del modelo."
   ]
  },
  {
   "cell_type": "markdown",
   "id": "9af518b2",
   "metadata": {},
   "source": [
    "- Conclusión"
   ]
  },
  {
   "cell_type": "markdown",
   "id": "241c8079",
   "metadata": {},
   "source": [
    "¿Recomendarías usar este modelo? depende del objetivo. No para decisiones críticas de negocio, debido a su bajo \"recall\". Sí como una herramienta para guiar futuras exploraciones y entender mejor los factores de churn.\n",
    "\n",
    "¿Cuál es el beneficio de usar regresión logística sobre modelos de árboles? la regresión logística es más fácil de interpretar. Sus coeficientes muestran no solo qué características son importantes, sino también si su relación con el churn es positiva o negativa.\n",
    "\n",
    "¿Cuál es el beneficio de usar modelos de árboles (Random Forest, XGBoost) sobre regresión logística? generalmente, tienen un mayor poder predictivo. Además, requieren menos pre-procesamiento de datos y son más flexibles.\n",
    "\n",
    "¿Qué se podría hacer para mejorar el modelo?\n",
    "\n",
    "- Crear nuevas características (ingeniería de características).\n",
    "\n",
    "- Probar diferentes combinaciones de variables para reducir el ruido.\n",
    "\n",
    "- Obtener datos adicionales, como información a nivel de viaje (tiempos, ubicaciones) o interacciones más detalladas con la app (reportes de alertas, etc.)."
   ]
  },
  {
   "cell_type": "markdown",
   "id": "492ed128",
   "metadata": {},
   "source": [
    "- Extra: Umbral de decisión óptimo"
   ]
  },
  {
   "cell_type": "markdown",
   "id": "23a6a064",
   "metadata": {},
   "source": [
    "El umbral de decisión utilizado por defecto para la mayoría de los algoritmos de clasificación es 0.5. Esto significa que si el modelo predice que un usuario tiene una probabilidad del 50% o más de desertar, se le asigna una predicción de 1 (churn)."
   ]
  },
  {
   "cell_type": "markdown",
   "id": "ebe97a23",
   "metadata": {},
   "source": [
    "Sin embargo, en conjuntos de datos desbalanceados, este umbral puede no ser el ideal. La curva de precisión-recall ayuda a visualizar el equilibrio entre estas dos métricas."
   ]
  },
  {
   "cell_type": "markdown",
   "id": "0cf3547b",
   "metadata": {},
   "source": [
    "Aquí está la curva para el modelo ganador (XGBoost) en los datos de prueba."
   ]
  },
  {
   "cell_type": "code",
   "execution_count": 104,
   "id": "f59ff467",
   "metadata": {},
   "outputs": [
    {
     "data": {
      "image/png": "[encoded data removed]",
      "text/plain": [
       "<Figure size 640x480 with 1 Axes>"
      ]
     },
     "metadata": {},
     "output_type": "display_data"
    }
   ],
   "source": [
    "# Graficar la curva de precisión-recall\n",
    "display = PrecisionRecallDisplay.from_estimator(\n",
    "    xgb_cv.best_estimator_, X_prueba, y_prueba, name='XGBoost'\n",
    "    )\n",
    "plt.title('Curva de Precisión-Recall, Modelo XGBoost');"
   ]
  },
  {
   "cell_type": "markdown",
   "id": "38e65955",
   "metadata": {},
   "source": [
    "Como se puede ver, a medida que el \"recall\" aumenta, la precision disminuye. Pero, ¿qué pasa si determinamos que los falsos positivos no son un gran problema? En este proyecto de Waze, un falso positivo solo significa que un usuario que no iba a cancelar recibe una notificación. El riesgo es muy bajo.\n",
    "\n",
    "Entonces, ¿qué pasaría si en lugar de usar el umbral de 0.5, usamos uno más bajo?"
   ]
  },
  {
   "cell_type": "markdown",
   "id": "647313a7",
   "metadata": {},
   "source": [
    "El método predict_proba() devuelve un array con las probabilidades de que cada usuario pertenezca a la clase negativa (columna 0) y a la clase positiva (columna 1).\n",
    "\n"
   ]
  },
  {
   "cell_type": "code",
   "execution_count": 105,
   "id": "28c1ce51",
   "metadata": {},
   "outputs": [
    {
     "data": {
      "text/plain": [
       "array([[0.97292364, 0.02707635],\n",
       "       [0.43276215, 0.56723785],\n",
       "       [0.9978458 , 0.00215418],\n",
       "       ...,\n",
       "       [0.80911976, 0.19088024],\n",
       "       [0.96015054, 0.03984944],\n",
       "       [0.73966384, 0.26033613]], shape=(2860, 2), dtype=float32)"
      ]
     },
     "execution_count": 105,
     "metadata": {},
     "output_type": "execute_result"
    }
   ],
   "source": [
    "# Obtener las probabilidades predichas en los datos de prueba\n",
    "probabilidades_predichas = xgb_cv.best_estimator_.predict_proba(X_prueba)\n",
    "probabilidades_predichas"
   ]
  },
  {
   "cell_type": "markdown",
   "id": "cea2a6a1",
   "metadata": {},
   "source": [
    "Podemos generar nuevas predicciones usando estas probabilidades con un umbral diferente. Por ejemplo, el siguiente código asigna una predicción de 1 a cualquier usuario con una probabilidad de deserción >= 0.4."
   ]
  },
  {
   "cell_type": "code",
   "execution_count": 106,
   "id": "7373d231",
   "metadata": {},
   "outputs": [
    {
     "data": {
      "text/html": [
       "<div>\n",
       "<style scoped>\n",
       "    .dataframe tbody tr th:only-of-type {\n",
       "        vertical-align: middle;\n",
       "    }\n",
       "\n",
       "    .dataframe tbody tr th {\n",
       "        vertical-align: top;\n",
       "    }\n",
       "\n",
       "    .dataframe thead th {\n",
       "        text-align: right;\n",
       "    }\n",
       "</style>\n",
       "<table border=\"1\" class=\"dataframe\">\n",
       "  <thead>\n",
       "    <tr style=\"text-align: right;\">\n",
       "      <th></th>\n",
       "      <th>modelo</th>\n",
       "      <th>precision</th>\n",
       "      <th>recall</th>\n",
       "      <th>F1</th>\n",
       "      <th>accuracy</th>\n",
       "    </tr>\n",
       "  </thead>\n",
       "  <tbody>\n",
       "    <tr>\n",
       "      <th>0</th>\n",
       "      <td>XGB, umbral = 0.4</td>\n",
       "      <td>0.385965</td>\n",
       "      <td>0.260355</td>\n",
       "      <td>0.310954</td>\n",
       "      <td>0.795455</td>\n",
       "    </tr>\n",
       "  </tbody>\n",
       "</table>\n",
       "</div>"
      ],
      "text/plain": [
       "              modelo  precision    recall        F1  accuracy\n",
       "0  XGB, umbral = 0.4   0.385965  0.260355  0.310954  0.795455"
      ]
     },
     "execution_count": 106,
     "metadata": {},
     "output_type": "execute_result"
    }
   ],
   "source": [
    "# Crear una lista solo con los valores de la segunda columna (probabilidad de churn)\n",
    "probabilidades = [x[1] for x in probabilidades_predichas]\n",
    "\n",
    "# Crear un array de nuevas predicciones con un umbral de 0.4\n",
    "nuevas_predicciones = np.array([1 if x >= 0.4 else 0 for x in probabilidades])\n",
    "\n",
    "# Obtener las métricas de evaluación para el nuevo umbral\n",
    "obtener_puntuaciones_prueba('XGB, umbral = 0.4', nuevas_predicciones, y_prueba)"
   ]
  },
  {
   "cell_type": "markdown",
   "id": "c155a3f7",
   "metadata": {},
   "source": [
    "Al comparar estos resultados con los anteriores, se observa que el Recall y el F1-score aumentaron significativamente, mientras que la precisión y la exactitud disminuyeron marginalmente."
   ]
  },
  {
   "cell_type": "markdown",
   "id": "07bee444",
   "metadata": {},
   "source": [
    "Supongamos que el objetivo es tener un recall de 0.5 y estamos dispuestos a aceptar la precision de ~30% que lo acompaña. En otras palabras, estaríamos satisfechos si el modelo identifica a la mitad de las personas que realmente cancelarán.\n",
    "\n",
    "La siguiente función nos ayuda a encontrar el umbral que produce este resultado."
   ]
  },
  {
   "cell_type": "code",
   "execution_count": 107,
   "id": "a52ca27d",
   "metadata": {},
   "outputs": [
    {
     "data": {
      "text/plain": [
       "(np.float64(0.145), 0.5009861932938856)"
      ]
     },
     "execution_count": 107,
     "metadata": {},
     "output_type": "execute_result"
    }
   ],
   "source": [
    "def encontrar_umbral(datos_y, probabilidades, recall_deseado):\n",
    "    # Aislar la segunda columna de las probabilidades (probabilidad de churn)\n",
    "    probs = [x[1] for x in probabilidades]\n",
    "    # Probar 1,000 umbrales diferentes entre 0 y 1\n",
    "    umbrales = np.arange(0, 1, 0.001)\n",
    "\n",
    "    puntuaciones = []\n",
    "    for umbral in umbrales:\n",
    "        # Crear nuevas predicciones basadas en el umbral actual\n",
    "        predicciones = np.array([1 if x >= umbral else 0 for x in probs])\n",
    "        # Calcular el recall para ese umbral\n",
    "        recall = recall_score(datos_y, predicciones)\n",
    "        # Añadir el umbral y su recall a la lista\n",
    "        puntuaciones.append((umbral, recall))\n",
    "\n",
    "    distancias = []\n",
    "    for indice, puntuacion in enumerate(puntuaciones):\n",
    "        # Calcular qué tan cerca está cada recall del recall deseado\n",
    "        distancia = abs(puntuacion[1] - recall_deseado)\n",
    "        distancias.append((indice, distancia))\n",
    "\n",
    "    # Ordenar las distancias de menor a mayor\n",
    "    distancias_ordenadas = sorted(distancias, key=lambda x: x[1], reverse=False)\n",
    "    # Identificar la tupla con la distancia más corta\n",
    "    mejor = distancias_ordenadas[0]\n",
    "    # Aislar el índice del mejor umbral\n",
    "    mejor_indice = mejor[0]\n",
    "    # Obtener el umbral y el recall correspondientes\n",
    "    umbral, recall = puntuaciones[mejor_indice]\n",
    "\n",
    "    return umbral, recall\n",
    "\n",
    "# Obtener las probabilidades predichas del modelo campeón\n",
    "probabilidades = xgb_cv.best_estimator_.predict_proba(X_prueba)\n",
    "\n",
    "# Llamar a la función para encontrar el umbral que da un recall cercano a 0.5\n",
    "encontrar_umbral(y_prueba, probabilidades, 0.5)"
   ]
  },
  {
   "cell_type": "markdown",
   "id": "ef937f9d",
   "metadata": {},
   "source": [
    "La función indica que un umbral de 0.145 resultará en un recall de 0.500.\n",
    "\n",
    "Para verificarlo, repetimos los pasos anteriores para obtener todas las métricas de evaluación con este nuevo umbral."
   ]
  },
  {
   "cell_type": "code",
   "execution_count": 108,
   "id": "5597a353",
   "metadata": {},
   "outputs": [
    {
     "data": {
      "text/html": [
       "<div>\n",
       "<style scoped>\n",
       "    .dataframe tbody tr th:only-of-type {\n",
       "        vertical-align: middle;\n",
       "    }\n",
       "\n",
       "    .dataframe tbody tr th {\n",
       "        vertical-align: top;\n",
       "    }\n",
       "\n",
       "    .dataframe thead th {\n",
       "        text-align: right;\n",
       "    }\n",
       "</style>\n",
       "<table border=\"1\" class=\"dataframe\">\n",
       "  <thead>\n",
       "    <tr style=\"text-align: right;\">\n",
       "      <th></th>\n",
       "      <th>modelo</th>\n",
       "      <th>precision</th>\n",
       "      <th>recall</th>\n",
       "      <th>F1</th>\n",
       "      <th>accuracy</th>\n",
       "    </tr>\n",
       "  </thead>\n",
       "  <tbody>\n",
       "    <tr>\n",
       "      <th>0</th>\n",
       "      <td>XGB, umbral = 0.194</td>\n",
       "      <td>0.334315</td>\n",
       "      <td>0.447732</td>\n",
       "      <td>0.382799</td>\n",
       "      <td>0.744056</td>\n",
       "    </tr>\n",
       "  </tbody>\n",
       "</table>\n",
       "</div>"
      ],
      "text/plain": [
       "                modelo  precision    recall        F1  accuracy\n",
       "0  XGB, umbral = 0.194   0.334315  0.447732  0.382799  0.744056"
      ]
     },
     "execution_count": 108,
     "metadata": {},
     "output_type": "execute_result"
    }
   ],
   "source": [
    "# Crear un array de nuevas predicciones con un umbral de 0.194\n",
    "probabilidades = [x[1] for x in probabilidades]\n",
    "nuevas_predicciones = np.array([1 if x >= 0.194 else 0 for x in probabilidades])\n",
    "\n",
    "# Obtener las métricas de evaluación para el umbral de 0.194\n",
    "obtener_puntuaciones_prueba('XGB, umbral = 0.194', nuevas_predicciones, y_prueba)"
   ]
  },
  {
   "cell_type": "markdown",
   "id": "14b096b0",
   "metadata": {},
   "source": [
    " Como se esperaba según la curva de precisión-recall, un recall de ~0.5 se corresponde con una precision de ~0.3."
   ]
  }
 ],
 "metadata": {
  "kernelspec": {
   "display_name": "updated_time_series_311",
   "language": "python",
   "name": "python3"
  },
  "language_info": {
   "codemirror_mode": {
    "name": "ipython",
    "version": 3
   },
   "file_extension": ".py",
   "mimetype": "text/x-python",
   "name": "python",
   "nbconvert_exporter": "python",
   "pygments_lexer": "ipython3",
   "version": "3.11.13"
  }
 },
 "nbformat": 4,
 "nbformat_minor": 5
}
