{
  "nbformat": 4,
  "nbformat_minor": 0,
  "metadata": {
    "colab": {
      "provenance": []
    },
    "kernelspec": {
      "name": "python3",
      "display_name": "Python 3"
    },
    "language_info": {
      "name": "python"
    }
  },
  "cells": [
    {
      "cell_type": "markdown",
      "source": [
        "**Proyecto Waze: análisis de hipótesis sobre el tipo de dispositivo y la cantidad de viajes**"
      ],
      "metadata": {
        "id": "6QopBpv01Vvk"
      }
    },
    {
      "cell_type": "markdown",
      "source": [
        "Metodología PACE\n",
        "\n",
        "Este análisis sigue el marco PACE (Plan, Analyze, Construct, Execute) para un enfoque estructurado y orientado a resultados.\n",
        "\n",
        "1. PACE: Planificar\n",
        "\n",
        "Pregunta de investigación: ¿Existe una diferencia en el número promedio de viajes entre los usuarios de iPhone y los usuarios de Android en la aplicación Waze?\n",
        "\n",
        "Hipótesis nula (H0): No hay diferencia en el número promedio de viajes entre los dos grupos.\n",
        "\n",
        "Hipótesis alternativa (H1): Existe una diferencia en el número promedio de viajes entre los dos grupos."
      ],
      "metadata": {
        "id": "kdwSKZ5L1esb"
      }
    },
    {
      "cell_type": "markdown",
      "source": [
        "2. PACE: Analizar y Construir\n",
        "\n",
        "Carga de datos e importación de librerías:"
      ],
      "metadata": {
        "id": "Rg7SU79q1kKL"
      }
    },
    {
      "cell_type": "code",
      "source": [
        "import pandas as pd\n",
        "from scipy import stats\n",
        "\n",
        "df = pd.read_csv('waze_dataset.csv')"
      ],
      "metadata": {
        "id": "aarBXWnf1fNg"
      },
      "execution_count": 2,
      "outputs": []
    },
    {
      "cell_type": "markdown",
      "source": [
        "Exploración de datos y estadísticas descriptivas:"
      ],
      "metadata": {
        "id": "9ghzJUof181Z"
      }
    },
    {
      "cell_type": "code",
      "source": [
        "# Convertir la variable 'device' a numérica\n",
        "map_dictionary = {'Android': 2, 'iPhone': 1}\n",
        "df['device_type'] = df['device'].map(map_dictionary)\n",
        "\n",
        "# Calcular el promedio de viajes por tipo de dispositivo\n",
        "average_drives_by_device = df.groupby('device_type')['drives'].mean()\n",
        "print(average_drives_by_device)"
      ],
      "metadata": {
        "colab": {
          "base_uri": "https://localhost:8080/"
        },
        "id": "tA-8h0vG10sz",
        "outputId": "20329669-1135-45a7-85cc-21e2f0ad264e"
      },
      "execution_count": 3,
      "outputs": [
        {
          "output_type": "stream",
          "name": "stdout",
          "text": [
            "device_type\n",
            "1    67.859078\n",
            "2    66.231838\n",
            "Name: drives, dtype: float64\n"
          ]
        }
      ]
    },
    {
      "cell_type": "markdown",
      "source": [
        "Prueba de hipótesis (t-test de dos muestras independientes):"
      ],
      "metadata": {
        "id": "AbHdzNZj2AG9"
      }
    },
    {
      "cell_type": "code",
      "source": [
        "iphone_drives = df[df['device_type'] == 1]['drives']\n",
        "android_drives = df[df['device_type'] == 2]['drives']\n",
        "\n",
        "t_statistic, p_value = stats.ttest_ind(a=iphone_drives, b=android_drives, equal_var=False)\n",
        "print(f'Estadístico t: {t_statistic}')\n",
        "print(f'Valor p: {p_value}')"
      ],
      "metadata": {
        "colab": {
          "base_uri": "https://localhost:8080/"
        },
        "id": "B-isQaye1-5w",
        "outputId": "d5758ee7-3c91-4c72-ea7c-8c92d749b07b"
      },
      "execution_count": 4,
      "outputs": [
        {
          "output_type": "stream",
          "name": "stdout",
          "text": [
            "Estadístico t: 1.463523206885235\n",
            "Valor p: 0.143351972680206\n"
          ]
        }
      ]
    },
    {
      "cell_type": "markdown",
      "source": [
        "Interpretación del valor p: dado que el valor p (0.143) es mayor que el nivel de significancia del 5% (0.05), no se rechaza la hipótesis nula."
      ],
      "metadata": {
        "id": "cIWHB47k2CzS"
      }
    },
    {
      "cell_type": "markdown",
      "source": [
        "3. PACE: Ejecutar\n",
        "\n",
        "Resultados: no se encontró una diferencia estadísticamente significativa en el número promedio de viajes entre los usuarios de iPhone y los usuarios de Android.\n",
        "\n",
        "Recomendaciones:\n",
        "explorar otros factores que puedan influir en la variación del número de viajes, como la antigüedad del usuario, la frecuencia de uso de la aplicación y la demografía del usuario.\n",
        "\n",
        "Realizar pruebas de hipótesis adicionales para investigar otras posibles diferencias en el comportamiento de los usuarios.\n",
        "\n",
        "Implementar cambios temporales en el marketing o la interfaz de usuario de la aplicación Waze para recopilar más datos y comprender mejor el comportamiento de los usuarios."
      ],
      "metadata": {
        "id": "QUJgiBfe2HA-"
      }
    },
    {
      "cell_type": "markdown",
      "source": [
        "Conclusión\n",
        "\n",
        "El análisis estadístico realizado no encontró evidencia suficiente para afirmar que existe una diferencia significativa en el número promedio de viajes entre los usuarios de iPhone y los usuarios de Android en la aplicación Waze. Se recomienda realizar análisis adicionales para explorar otros factores que puedan influir en el comportamiento de los usuarios y mejorar las estrategias de retención."
      ],
      "metadata": {
        "id": "-jCr-7EZ2Oxf"
      }
    }
  ]
}